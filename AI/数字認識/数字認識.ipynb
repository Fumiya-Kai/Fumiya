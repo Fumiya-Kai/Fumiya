{
 "cells": [
  {
   "cell_type": "code",
   "execution_count": 2,
   "metadata": {},
   "outputs": [
    {
     "data": {
      "image/png": "[encoded data removed]",
      "text/plain": [
       "<Figure size 1440x360 with 10 Axes>"
      ]
     },
     "metadata": {
      "needs_background": "light"
     },
     "output_type": "display_data"
    }
   ],
   "source": [
    "import numpy as np\n",
    "import numpy.random as random\n",
    "import scipy as sp\n",
    "from pandas import Series,DataFrame\n",
    "import pandas as pd\n",
    "import time\n",
    "\n",
    "# 可視化ライブラリ\n",
    "import matplotlib.pyplot as plt\n",
    "import matplotlib as mpl\n",
    "import seaborn as sns\n",
    "%matplotlib inline\n",
    "\n",
    "# 機械学習ライブラリ\n",
    "import sklearn\n",
    "\n",
    "# 小数第３位まで表示\n",
    "%precision 3\n",
    "\n",
    "# 分析対象データ\n",
    "from sklearn.datasets import load_digits\n",
    "\n",
    "digits = load_digits()\n",
    "\n",
    "# 画像の表示\n",
    "plt.figure(figsize=(20,5))\n",
    "for label, img in zip(digits.target[:10], digits.images[:10]):\n",
    "    plt.subplot(1,10,label+1)\n",
    "    plt.axis('off')\n",
    "    plt.imshow(img,cmap=plt.cm.gray_r,interpolation='nearest')\n",
    "    plt.title('Number:{0}'.format(label))"
   ]
  },
  {
   "cell_type": "code",
   "execution_count": 2,
   "metadata": {},
   "outputs": [
    {
     "name": "stdout",
     "output_type": "stream",
     "text": [
      "正解率0.9955555555555555\n",
      "classification report\n",
      "              precision    recall  f1-score   support\n",
      "\n",
      "           0       1.00      1.00      1.00        37\n",
      "           1       1.00      1.00      1.00        43\n",
      "           2       1.00      1.00      1.00        44\n",
      "           3       1.00      1.00      1.00        45\n",
      "           4       1.00      1.00      1.00        38\n",
      "           5       0.98      0.98      0.98        48\n",
      "           6       1.00      1.00      1.00        52\n",
      "           7       1.00      1.00      1.00        48\n",
      "           8       1.00      1.00      1.00        48\n",
      "           9       0.98      0.98      0.98        47\n",
      "\n",
      "    accuracy                           1.00       450\n",
      "   macro avg       1.00      1.00      1.00       450\n",
      "weighted avg       1.00      1.00      1.00       450\n",
      "\n",
      "かかった時間\n",
      "0.13016891479492188\n"
     ]
    }
   ],
   "source": [
    "#SVM\n",
    "from sklearn.model_selection import train_test_split\n",
    "x_train, x_test, y_train, y_test = train_test_split(digits.data, digits.target, random_state=0)\n",
    "\n",
    "from sklearn import svm\n",
    "clf = svm.SVC(gamma=0.001)\n",
    "\n",
    "start = time.time()\n",
    "\n",
    "clf.fit(x_train, y_train)\n",
    "\n",
    "accuracy1 = clf.score(x_test, y_test)\n",
    "print(f\"正解率{accuracy1}\")\n",
    "\n",
    "predicted = clf.predict(x_test)\n",
    "\n",
    "print(\"classification report\")\n",
    "print(sklearn.metrics.classification_report(y_test, predicted))\n",
    "\n",
    "t1 =time.time() - start\n",
    "print(\"かかった時間\")\n",
    "print(t1)"
   ]
  },
  {
   "cell_type": "code",
   "execution_count": 3,
   "metadata": {},
   "outputs": [
    {
     "name": "stdout",
     "output_type": "stream",
     "text": [
      "正解率0.9622222222222222\n",
      "classification report\n",
      "              precision    recall  f1-score   support\n",
      "\n",
      "           0       0.95      1.00      0.97        37\n",
      "           1       0.89      0.98      0.93        43\n",
      "           2       0.95      0.93      0.94        44\n",
      "           3       1.00      0.96      0.98        45\n",
      "           4       0.97      0.95      0.96        38\n",
      "           5       0.98      0.98      0.98        48\n",
      "           6       1.00      0.98      0.99        52\n",
      "           7       0.92      0.98      0.95        48\n",
      "           8       0.98      0.88      0.92        48\n",
      "           9       0.98      1.00      0.99        47\n",
      "\n",
      "    accuracy                           0.96       450\n",
      "   macro avg       0.96      0.96      0.96       450\n",
      "weighted avg       0.96      0.96      0.96       450\n",
      "\n",
      "かかった時間\n",
      "0.811898946762085\n"
     ]
    }
   ],
   "source": [
    "#ニューラルネットワーク-relu\n",
    "from sklearn.model_selection import train_test_split\n",
    "x_train, x_test, y_train, y_test = train_test_split(digits.data, digits.target, random_state=0)\n",
    "\n",
    "from sklearn import neural_network\n",
    "clf = neural_network.MLPClassifier(activation=\"relu\", alpha=0.0001)\n",
    "\n",
    "start = time.time()\n",
    "\n",
    "clf.fit(x_train, y_train)\n",
    "\n",
    "accuracy2 = clf.score(x_test, y_test)\n",
    "print(f\"正解率{accuracy2}\")\n",
    "\n",
    "predicted = clf.predict(x_test)\n",
    "\n",
    "print(\"classification report\")\n",
    "print(sklearn.metrics.classification_report(y_test, predicted))\n",
    "\n",
    "t2 =time.time() - start\n",
    "print(\"かかった時間\")\n",
    "print(t2)"
   ]
  },
  {
   "cell_type": "code",
   "execution_count": 4,
   "metadata": {},
   "outputs": [
    {
     "name": "stdout",
     "output_type": "stream",
     "text": [
      "正解率0.9777777777777777\n",
      "classification report\n",
      "              precision    recall  f1-score   support\n",
      "\n",
      "           0       1.00      1.00      1.00        37\n",
      "           1       0.91      0.98      0.94        43\n",
      "           2       0.98      1.00      0.99        44\n",
      "           3       1.00      0.98      0.99        45\n",
      "           4       1.00      0.97      0.99        38\n",
      "           5       0.98      0.98      0.98        48\n",
      "           6       1.00      0.98      0.99        52\n",
      "           7       0.96      1.00      0.98        48\n",
      "           8       0.98      0.94      0.96        48\n",
      "           9       0.98      0.96      0.97        47\n",
      "\n",
      "    accuracy                           0.98       450\n",
      "   macro avg       0.98      0.98      0.98       450\n",
      "weighted avg       0.98      0.98      0.98       450\n",
      "\n",
      "かかった時間\n",
      "1.3088550567626953\n"
     ]
    },
    {
     "name": "stderr",
     "output_type": "stream",
     "text": [
      "/Users/kaifumiya/opt/anaconda3/lib/python3.7/site-packages/sklearn/neural_network/multilayer_perceptron.py:566: ConvergenceWarning: Stochastic Optimizer: Maximum iterations (200) reached and the optimization hasn't converged yet.\n",
      "  % self.max_iter, ConvergenceWarning)\n"
     ]
    }
   ],
   "source": [
    "#ニューラルネットワーク-logistic\n",
    "from sklearn.model_selection import train_test_split\n",
    "x_train, x_test, y_train, y_test = train_test_split(digits.data, digits.target, random_state=0)\n",
    "\n",
    "from sklearn import neural_network\n",
    "clf = neural_network.MLPClassifier(activation=\"logistic\", alpha=0.0001)\n",
    "\n",
    "start = time.time()\n",
    "\n",
    "clf.fit(x_train, y_train)\n",
    "\n",
    "accuracy3 = clf.score(x_test, y_test)\n",
    "print(f\"正解率{accuracy3}\")\n",
    "\n",
    "predicted = clf.predict(x_test)\n",
    "\n",
    "print(\"classification report\")\n",
    "print(sklearn.metrics.classification_report(y_test, predicted))\n",
    "\n",
    "t3 =time.time() - start\n",
    "print(\"かかった時間\")\n",
    "print(t3)"
   ]
  },
  {
   "cell_type": "code",
   "execution_count": 5,
   "metadata": {},
   "outputs": [
    {
     "name": "stdout",
     "output_type": "stream",
     "text": [
      "正解率0.9555555555555556\n",
      "classification report\n",
      "              precision    recall  f1-score   support\n",
      "\n",
      "           0       1.00      1.00      1.00        37\n",
      "           1       0.91      0.93      0.92        43\n",
      "           2       0.98      0.93      0.95        44\n",
      "           3       0.92      0.98      0.95        45\n",
      "           4       0.97      0.97      0.97        38\n",
      "           5       0.96      0.98      0.97        48\n",
      "           6       1.00      0.98      0.99        52\n",
      "           7       0.98      0.96      0.97        48\n",
      "           8       0.91      0.88      0.89        48\n",
      "           9       0.94      0.96      0.95        47\n",
      "\n",
      "    accuracy                           0.96       450\n",
      "   macro avg       0.96      0.96      0.96       450\n",
      "weighted avg       0.96      0.96      0.96       450\n",
      "\n",
      "かかった時間\n",
      "1.120905876159668\n"
     ]
    },
    {
     "name": "stderr",
     "output_type": "stream",
     "text": [
      "/Users/kaifumiya/opt/anaconda3/lib/python3.7/site-packages/sklearn/neural_network/multilayer_perceptron.py:566: ConvergenceWarning: Stochastic Optimizer: Maximum iterations (200) reached and the optimization hasn't converged yet.\n",
      "  % self.max_iter, ConvergenceWarning)\n"
     ]
    }
   ],
   "source": [
    "#ニューラルネットワーク-identity\n",
    "from sklearn.model_selection import train_test_split\n",
    "x_train, x_test, y_train, y_test = train_test_split(digits.data, digits.target, random_state=0)\n",
    "\n",
    "from sklearn import neural_network\n",
    "clf = neural_network.MLPClassifier(activation=\"identity\", alpha=0.0001)\n",
    "\n",
    "start = time.time()\n",
    "\n",
    "clf.fit(x_train, y_train)\n",
    "\n",
    "accuracy4 = clf.score(x_test, y_test)\n",
    "print(f\"正解率{accuracy4}\")\n",
    "\n",
    "predicted = clf.predict(x_test)\n",
    "\n",
    "print(\"classification report\")\n",
    "print(sklearn.metrics.classification_report(y_test, predicted))\n",
    "\n",
    "t4 =time.time() - start\n",
    "print(\"かかった時間\")\n",
    "print(t4)"
   ]
  },
  {
   "cell_type": "code",
   "execution_count": 6,
   "metadata": {},
   "outputs": [
    {
     "name": "stdout",
     "output_type": "stream",
     "text": [
      "正解率0.9755555555555555\n",
      "classification report\n",
      "              precision    recall  f1-score   support\n",
      "\n",
      "           0       1.00      1.00      1.00        37\n",
      "           1       0.93      0.98      0.95        43\n",
      "           2       0.96      1.00      0.98        44\n",
      "           3       1.00      0.98      0.99        45\n",
      "           4       0.97      0.97      0.97        38\n",
      "           5       0.98      0.98      0.98        48\n",
      "           6       1.00      0.98      0.99        52\n",
      "           7       0.96      0.98      0.97        48\n",
      "           8       0.98      0.94      0.96        48\n",
      "           9       0.98      0.96      0.97        47\n",
      "\n",
      "    accuracy                           0.98       450\n",
      "   macro avg       0.98      0.98      0.98       450\n",
      "weighted avg       0.98      0.98      0.98       450\n",
      "\n",
      "かかった時間\n",
      "0.8660271167755127\n"
     ]
    }
   ],
   "source": [
    "#ニューラルネットワーク-tanh\n",
    "from sklearn.model_selection import train_test_split\n",
    "x_train, x_test, y_train, y_test = train_test_split(digits.data, digits.target, random_state=0)\n",
    "\n",
    "from sklearn import neural_network\n",
    "clf = neural_network.MLPClassifier(activation=\"tanh\", alpha=0.0001)\n",
    "\n",
    "start = time.time()\n",
    "\n",
    "clf.fit(x_train, y_train)\n",
    "\n",
    "accuracy5 = clf.score(x_test, y_test)\n",
    "print(f\"正解率{accuracy5}\")\n",
    "\n",
    "predicted = clf.predict(x_test)\n",
    "\n",
    "print(\"classification report\")\n",
    "print(sklearn.metrics.classification_report(y_test, predicted))\n",
    "\n",
    "t5 =time.time() - start\n",
    "print(\"かかった時間\")\n",
    "print(t5)"
   ]
  },
  {
   "cell_type": "code",
   "execution_count": 7,
   "metadata": {},
   "outputs": [
    {
     "data": {
      "text/html": [
       "<div>\n",
       "<style scoped>\n",
       "    .dataframe tbody tr th:only-of-type {\n",
       "        vertical-align: middle;\n",
       "    }\n",
       "\n",
       "    .dataframe tbody tr th {\n",
       "        vertical-align: top;\n",
       "    }\n",
       "\n",
       "    .dataframe thead th {\n",
       "        text-align: right;\n",
       "    }\n",
       "</style>\n",
       "<table border=\"1\" class=\"dataframe\">\n",
       "  <thead>\n",
       "    <tr style=\"text-align: right;\">\n",
       "      <th></th>\n",
       "      <th>正解率</th>\n",
       "      <th>かかった時間</th>\n",
       "    </tr>\n",
       "  </thead>\n",
       "  <tbody>\n",
       "    <tr>\n",
       "      <td>SVM</td>\n",
       "      <td>0.995556</td>\n",
       "      <td>0.130169</td>\n",
       "    </tr>\n",
       "    <tr>\n",
       "      <td>NN-ralu</td>\n",
       "      <td>0.962222</td>\n",
       "      <td>0.811899</td>\n",
       "    </tr>\n",
       "    <tr>\n",
       "      <td>NN-log</td>\n",
       "      <td>0.977778</td>\n",
       "      <td>1.308855</td>\n",
       "    </tr>\n",
       "    <tr>\n",
       "      <td>NN-id</td>\n",
       "      <td>0.955556</td>\n",
       "      <td>1.120906</td>\n",
       "    </tr>\n",
       "    <tr>\n",
       "      <td>NN-tanh</td>\n",
       "      <td>0.975556</td>\n",
       "      <td>0.866027</td>\n",
       "    </tr>\n",
       "  </tbody>\n",
       "</table>\n",
       "</div>"
      ],
      "text/plain": [
       "              正解率    かかった時間\n",
       "SVM      0.995556  0.130169\n",
       "NN-ralu  0.962222  0.811899\n",
       "NN-log   0.977778  1.308855\n",
       "NN-id    0.955556  1.120906\n",
       "NN-tanh  0.975556  0.866027"
      ]
     },
     "execution_count": 7,
     "metadata": {},
     "output_type": "execute_result"
    }
   ],
   "source": [
    "l1 = [accuracy1, accuracy2, accuracy3, accuracy4, accuracy5]\n",
    "l2 = [t1, t2, t3, t4, t5]\n",
    "\n",
    "d = pd.DataFrame(l1)\n",
    "\n",
    "d[1] = l2\n",
    "\n",
    "d.columns = ['正解率', 'かかった時間']\n",
    "d.index = ['SVM', 'NN-ralu', 'NN-log', 'NN-id', 'NN-tanh']\n",
    "\n",
    "d"
   ]
  },
  {
   "cell_type": "code",
   "execution_count": 6,
   "metadata": {},
   "outputs": [
    {
     "name": "stdout",
     "output_type": "stream",
     "text": [
      "<class 'numpy.ndarray'>\n",
      "<class 'numpy.ndarray'>\n",
      "[[ 0.  0.  5. ...  0.  0.  0.]\n",
      " [ 0.  0.  0. ... 10.  0.  0.]\n",
      " [ 0.  0.  0. ... 16.  9.  0.]\n",
      " ...\n",
      " [ 0.  0.  1. ...  6.  0.  0.]\n",
      " [ 0.  0.  2. ... 12.  0.  0.]\n",
      " [ 0.  0. 10. ... 12.  1.  0.]]\n",
      "[0 1 2 ... 8 9 8]\n"
     ]
    }
   ],
   "source": [
    "print(type(digits.data))\n",
    "print(type(digits.target))\n",
    "print(digits.data)\n",
    "print(digits.target)"
   ]
  },
  {
   "cell_type": "code",
   "execution_count": null,
   "metadata": {},
   "outputs": [],
   "source": []
  }
 ],
 "metadata": {
  "kernelspec": {
   "display_name": "Python 3",
   "language": "python",
   "name": "python3"
  },
  "language_info": {
   "codemirror_mode": {
    "name": "ipython",
    "version": 3
   },
   "file_extension": ".py",
   "mimetype": "text/x-python",
   "name": "python",
   "nbconvert_exporter": "python",
   "pygments_lexer": "ipython3",
   "version": "3.7.4"
  }
 },
 "nbformat": 4,
 "nbformat_minor": 4
}
