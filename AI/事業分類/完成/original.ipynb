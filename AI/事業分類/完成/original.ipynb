{
 "cells": [
  {
   "cell_type": "code",
   "execution_count": null,
   "metadata": {},
   "outputs": [],
   "source": [
    "import MeCab\n",
    "m = MeCab.Tagger('-d /usr/lib/mecab/dic/mecab-ipadic-neologd')"
   ]
  },
  {
   "cell_type": "code",
   "execution_count": null,
   "metadata": {},
   "outputs": [],
   "source": [
    "import pandas as pd\n",
    "\n",
    "csv_df = pd.read_csv('example.csv',encoding=\"utf8\") \n",
    "len(csv_df)\n",
    "csv_df.info()\n",
    "csv_df.head()"
   ]
  },
  {
   "cell_type": "code",
   "execution_count": null,
   "metadata": {},
   "outputs": [],
   "source": [
    "import jaconv\n",
    "wakatis = []\n",
    "for w in csv_df['歳出事業']:\n",
    "    words1 = []\n",
    "    w = jaconv.z2h(w, digit=True, ascii=True) # 半角、小文字に統一\n",
    "    for c in m.parse(w).splitlines()[:-1]:  #事業名を分割し解析結果を配列にして繰り返す\n",
    "        surface, feature = c.split('\\t')    #分割された事業名と結果をそれぞれ格納 \n",
    "        if '名詞' in feature:             #名詞ならそれをwords1に追加\n",
    "            words1.append(surface)\n",
    "            \n",
    "    str1 = ' '.join(words1) #分割された事業名を空白で区切る\n",
    "    wakatis.append(str1)    #区切られた事業名を配列に格納\n",
    "# wakatis\n",
    "csv_df['wakati'] = wakatis\n",
    "learn_df = csv_df[['歳出事業コード','歳出事業','wakati']]\n",
    "learn_df.info()\n",
    "learn_df.head()"
   ]
  },
  {
   "cell_type": "code",
   "execution_count": null,
   "metadata": {},
   "outputs": [],
   "source": [
    "def find_similarity(x, y):\n",
    "        \n",
    "    d0 = []\n",
    "    for n in y:\n",
    "        w = []\n",
    "        for word in x:\n",
    "            if word in n:\n",
    "                w.append(word)\n",
    "        d0.append(w)\n",
    "    \n",
    "    d1 = []    \n",
    "    for v in d0:\n",
    "        a = 1\n",
    "        point = 0\n",
    "        for word2 in v:\n",
    "            for list_w in d0:\n",
    "                if word2 in list_w:\n",
    "                    a += 1\n",
    "        \n",
    "            point += len(word2)/a\n",
    "        \n",
    "        d1.append(point)\n",
    "        \n",
    "    return d1"
   ]
  },
  {
   "cell_type": "code",
   "execution_count": null,
   "metadata": {},
   "outputs": [],
   "source": [
    "import numpy as np\n",
    "import time\n",
    "\n",
    "while True:\n",
    "    \n",
    "    word = input('検索:')\n",
    "    if word == '終了':\n",
    "        break\n",
    "    \n",
    "    else:\n",
    "        \n",
    "        t1 = time.time()\n",
    "        words2 = []\n",
    "        wakatis2 = []\n",
    "        for c in m.parse(word).splitlines()[:-1]:\n",
    "            surface, feature = c.split('\\t')     \n",
    "            if '名詞' in feature:\n",
    "                words2.append(surface)\n",
    "        str2 = ' '.join(words2) \n",
    "        wakatis2.append(str2)\n",
    "        \n",
    "        d = find_similarity(wakatis2[0], wakatis)\n",
    "        d = np.array(d)\n",
    "        topn_indices = np.argsort(d)[::-1][0:10]\n",
    "        b = True\n",
    "        for sim, tweet in zip(d[topn_indices], np.array(csv_df['歳出事業'])[topn_indices]):\n",
    "            if sim != 0:\n",
    "                print(\"({:}): {}\".format(sim, \"\".join(tweet.split())))\n",
    "                b = False\n",
    "            if b:\n",
    "                print('検索結果なし')\n",
    "                break\n",
    "        print('検索時間:', time.time()-t1)"
   ]
  },
  {
   "cell_type": "code",
   "execution_count": null,
   "metadata": {},
   "outputs": [],
   "source": []
  }
 ],
 "metadata": {
  "kernelspec": {
   "display_name": "Python 3",
   "language": "python",
   "name": "python3"
  },
  "language_info": {
   "codemirror_mode": {
    "name": "ipython",
    "version": 3
   },
   "file_extension": ".py",
   "mimetype": "text/x-python",
   "name": "python",
   "nbconvert_exporter": "python",
   "pygments_lexer": "ipython3",
   "version": "3.7.4"
  }
 },
 "nbformat": 4,
 "nbformat_minor": 4
}
