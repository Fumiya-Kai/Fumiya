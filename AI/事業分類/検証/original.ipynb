{
 "cells": [
  {
   "cell_type": "code",
   "execution_count": null,
   "metadata": {},
   "outputs": [],
   "source": [
    "import MeCab\n",
    "m = MeCab.Tagger('-d /usr/lib/mecab/dic/mecab-ipadic-neologd')"
   ]
  },
  {
   "cell_type": "code",
   "execution_count": null,
   "metadata": {},
   "outputs": [],
   "source": [
    "import pandas as pd\n",
    "\n",
    "csv_df = pd.read_csv('example.csv',encoding=\"utf8\") \n",
    "len(csv_df)\n",
    "csv_df.info()\n",
    "csv_df.head()"
   ]
  },
  {
   "cell_type": "code",
   "execution_count": null,
   "metadata": {},
   "outputs": [],
   "source": [
    "import jaconv\n",
    "wakatis = []\n",
    "for w in csv_df['歳出事業']:\n",
    "    words1 = []\n",
    "    w = jaconv.z2h(w, digit=True, ascii=True) # 半角、小文字に統一\n",
    "    for c in m.parse(w).splitlines()[:-1]:  #事業名を分割し解析結果を配列にして繰り返す\n",
    "        surface, feature = c.split('\\t')    #分割された事業名と結果をそれぞれ格納 \n",
    "        if '名詞' in feature:             #名詞ならそれをwords1に追加\n",
    "            words1.append(surface)\n",
    "            \n",
    "    str1 = ' '.join(words1) #分割された事業名を空白で区切る\n",
    "    wakatis.append(str1)    #区切られた事業名を配列に格納\n",
    "# wakatis\n",
    "csv_df['wakati'] = wakatis\n",
    "learn_df = csv_df[['歳出事業コード','歳出事業','wakati']]\n",
    "learn_df.info()\n",
    "learn_df.head()"
   ]
  },
  {
   "cell_type": "code",
   "execution_count": null,
   "metadata": {},
   "outputs": [],
   "source": [
    "def find_similarity(x, y):\n",
    "#    l = []\n",
    "#    for i in range(1, len(x)+1):\n",
    "#        for j in range(0, len(x)+1-i):\n",
    "#            l.append(x[j:j+i])\n",
    "        \n",
    "    d0 = []\n",
    "    for n in y:\n",
    "        w = []\n",
    "        for word in x:\n",
    "            if word in n:\n",
    "                w.append(word)\n",
    "        d0.append(w)\n",
    "    \n",
    "    d1 = []    \n",
    "    for v in d0:\n",
    "        a = 1\n",
    "        point = 0\n",
    "        for word2 in v:\n",
    "            for list_w in d0:\n",
    "                if word2 in list_w:\n",
    "                    a += 1\n",
    "        \n",
    "            point += len(word2)/a\n",
    "        \n",
    "        d1.append(point)\n",
    "        \n",
    "    return d1\n",
    "\n",
    "d = find_similarity(wakatis[1], wakatis)\n",
    "csv_df['ポイント'] = d\n",
    "learn_df = csv_df[['歳出事業コード','歳出事業','ポイント']]\n",
    "learn_df.info()\n",
    "learn_df.head()"
   ]
  },
  {
   "cell_type": "code",
   "execution_count": null,
   "metadata": {},
   "outputs": [],
   "source": [
    "rank = [['', 0], ['', 0], ['', 0]]\n",
    "for name, point in zip(csv_df['歳出事業'], csv_df['ポイント']):\n",
    "    if name == csv_df['歳出事業'][1]:\n",
    "        continue\n",
    "    if rank[0][1] <= point:\n",
    "        rank[2] = rank[1]\n",
    "        rank[1] = rank[0]\n",
    "        rank[0] = [name, point]\n",
    "        \n",
    "    else:\n",
    "        if rank[1][1] <= point:\n",
    "            rank[2] = rank[1]\n",
    "            rank[1] = [name, point]\n",
    "        else:\n",
    "            if rank[2][1] <= point:\n",
    "                rank[2] = [name, point]\n",
    "\n",
    "print(rank)"
   ]
  },
  {
   "cell_type": "code",
   "execution_count": null,
   "metadata": {},
   "outputs": [],
   "source": [
    "import numpy as np\n",
    "def find_similarity(x, y):\n",
    "#    l = []\n",
    "#    for i in range(1, len(x)+1):\n",
    "#        for j in range(0, len(x)+1-i):\n",
    "#            l.append(x[j:j+i])\n",
    "        \n",
    "    d0 = []\n",
    "    for n in y:\n",
    "        w = []\n",
    "        for word in x:\n",
    "            if word in n:\n",
    "                w.append(word)\n",
    "        d0.append(w)\n",
    "    \n",
    "    d1 = []    \n",
    "    for v in d0:\n",
    "        a = 1\n",
    "        point = 0\n",
    "        for word2 in v:\n",
    "            for list_w in d0:\n",
    "                if word2 in list_w:\n",
    "                    a += 1\n",
    "        \n",
    "            point += len(word2)/a\n",
    "        \n",
    "        d1.append(point)\n",
    "        \n",
    "    return d1\n",
    "\n",
    "for i in range(len(wakatis)):\n",
    "    d = find_similarity(wakatis[i], wakatis)\n",
    "    d = np.array(d)\n",
    "\n",
    "    topn_indices = np.argsort(d)[::-1][:10]\n",
    "    print(topn_indices)\n",
    "    for sim, tweet in zip(d[topn_indices], np.array(csv_df['歳出事業'])[topn_indices]):\n",
    "        print(\"({:.2f}): {}\".format(sim, \"\".join(tweet.split())))"
   ]
  },
  {
   "cell_type": "code",
   "execution_count": null,
   "metadata": {},
   "outputs": [],
   "source": []
  }
 ],
 "metadata": {
  "kernelspec": {
   "display_name": "Python 3",
   "language": "python",
   "name": "python3"
  },
  "language_info": {
   "codemirror_mode": {
    "name": "ipython",
    "version": 3
   },
   "file_extension": ".py",
   "mimetype": "text/x-python",
   "name": "python",
   "nbconvert_exporter": "python",
   "pygments_lexer": "ipython3",
   "version": "3.7.4"
  }
 },
 "nbformat": 4,
 "nbformat_minor": 4
}
